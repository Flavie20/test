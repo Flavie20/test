{
 "cells": [
  {
   "cell_type": "markdown",
   "id": "2eb68edf-e2c1-411e-a77f-5372e7eefa13",
   "metadata": {},
   "source": [
    "# Exercice 1"
   ]
  },
  {
   "cell_type": "code",
   "execution_count": 6,
   "id": "4c3cf6dc-cf88-4c59-bc89-bf0471ccc72b",
   "metadata": {},
   "outputs": [
    {
     "name": "stdout",
     "output_type": "stream",
     "text": [
      "Entrez le nombre de jours dans le mois (28 à 31) :  30\n",
      "Entrez le numéro du jour démarrant le mois (1 pour lundi, ..., 7 pour dimanche) :  1\n"
     ]
    },
    {
     "name": "stdout",
     "output_type": "stream",
     "text": [
      "LUN MAR MER JEU VEN SAM DIM\n",
      " 1   2   3   4   5   6   7 \n",
      " 8   9  10  11  12  13  14 \n",
      "15  16  17  18  19  20  21 \n",
      "22  23  24  25  26  27  28 \n",
      "29  30 \n"
     ]
    }
   ],
   "source": [
    "def afficher_calendrier():\n",
    "    # Demander les informations à l'utilisateur\n",
    "    jours_dans_mois = int(input(\"Entrez le nombre de jours dans le mois (28 à 31) : \"))\n",
    "    premier_jour = int(input(\"Entrez le numéro du jour démarrant le mois (1 pour lundi, ..., 7 pour dimanche) : \"))\n",
    "    \n",
    "    # Vérification des entrées\n",
    "    if jours_dans_mois < 28 or jours_dans_mois > 31:\n",
    "        print(\"Le nombre de jours doit être compris entre 28 et 31.\")\n",
    "        return\n",
    "    if premier_jour < 1 or premier_jour > 7:\n",
    "        print(\"Le numéro du premier jour doit être compris entre 1 (lundi) et 7 (dimanche).\")\n",
    "        return\n",
    "\n",
    "    # En-tête des jours de la semaine\n",
    "    jours_semaine = [\"LUN\", \"MAR\", \"MER\", \"JEU\", \"VEN\", \"SAM\", \"DIM\"]\n",
    "    print(\" \".join(jours_semaine))\n",
    "\n",
    "    # Espaces vides avant le premier jour\n",
    "    calendrier = [\"    \"] * (premier_jour - 1)\n",
    "\n",
    "    # Ajouter les jours du mois au calendrier\n",
    "    for jour in range(1, jours_dans_mois + 1):\n",
    "        calendrier.append(f\"{jour:2d} \")\n",
    "\n",
    "    # Afficher le calendrier par ligne\n",
    "    for i in range(0, len(calendrier), 7):\n",
    "        print(\" \".join(f\"{day:>3}\" for day in calendrier[i:i+7]))\n",
    "\n",
    "# Appeler la fonction\n",
    "afficher_calendrier()\n"
   ]
  },
  {
   "cell_type": "markdown",
   "id": "9f105d0d-d82f-410c-ba95-0bc21932df07",
   "metadata": {},
   "source": [
    "## EXERCICE 2"
   ]
  },
  {
   "cell_type": "code",
   "execution_count": null,
   "id": "9844bbf8-9ea9-40d4-ada4-3bc054d991e7",
   "metadata": {},
   "outputs": [
    {
     "name": "stdout",
     "output_type": "stream",
     "text": [
      "\n",
      "=== Les 5 meilleurs scores ===\n",
      "Pas encore de scores enregistrés.\n",
      "\n",
      "=== Nouvelle Partie ===\n"
     ]
    },
    {
     "name": "stdout",
     "output_type": "stream",
     "text": [
      "\n",
      "Quel est le chef-lieu de la région san_pedro ?  san-pedro\n"
     ]
    },
    {
     "name": "stdout",
     "output_type": "stream",
     "text": [
      "Réponse incorrecte 😢\n",
      "Le chef-lieu de san_pedro est San-pédro\n"
     ]
    },
    {
     "name": "stdout",
     "output_type": "stream",
     "text": [
      "\n",
      "Quel est le chef-lieu de la région kabadougou ?  hgg\n"
     ]
    },
    {
     "name": "stdout",
     "output_type": "stream",
     "text": [
      "Réponse incorrecte 😢\n",
      "Le chef-lieu de kabadougou est Odienné\n"
     ]
    },
    {
     "name": "stdout",
     "output_type": "stream",
     "text": [
      "\n",
      "Quel est le chef-lieu de la région haut_sassandra ?  \n"
     ]
    },
    {
     "name": "stdout",
     "output_type": "stream",
     "text": [
      "Réponse incorrecte 😢\n",
      "Le chef-lieu de haut_sassandra est Daloa\n"
     ]
    },
    {
     "name": "stdout",
     "output_type": "stream",
     "text": [
      "\n",
      "Quel est le chef-lieu de la région bounkani ?  l\n"
     ]
    },
    {
     "name": "stdout",
     "output_type": "stream",
     "text": [
      "Réponse incorrecte 😢\n",
      "Le chef-lieu de bounkani est Bouna\n"
     ]
    },
    {
     "name": "stdout",
     "output_type": "stream",
     "text": [
      "\n",
      "Quel est le chef-lieu de la région grands_ponts ?  dabou\n"
     ]
    },
    {
     "name": "stdout",
     "output_type": "stream",
     "text": [
      "Bonne réponse! 😊\n"
     ]
    },
    {
     "name": "stdout",
     "output_type": "stream",
     "text": [
      "\n",
      "Quel est le chef-lieu de la région poro ?  korhogo\n"
     ]
    },
    {
     "name": "stdout",
     "output_type": "stream",
     "text": [
      "Bonne réponse! 😊\n"
     ]
    },
    {
     "name": "stdout",
     "output_type": "stream",
     "text": [
      "\n",
      "Quel est le chef-lieu de la région district_autonome_yamoussoukro ?  yamoussoukro\n"
     ]
    },
    {
     "name": "stdout",
     "output_type": "stream",
     "text": [
      "Bonne réponse! 😊\n"
     ]
    },
    {
     "name": "stdout",
     "output_type": "stream",
     "text": [
      "\n",
      "Quel est le chef-lieu de la région la_me ?  adzope\n"
     ]
    },
    {
     "name": "stdout",
     "output_type": "stream",
     "text": [
      "Réponse incorrecte 😢\n",
      "Le chef-lieu de la_me est Adzopé\n"
     ]
    },
    {
     "name": "stdout",
     "output_type": "stream",
     "text": [
      "\n",
      "Quel est le chef-lieu de la région nawa ?  jhj\n"
     ]
    },
    {
     "name": "stdout",
     "output_type": "stream",
     "text": [
      "Réponse incorrecte 😢\n",
      "Le chef-lieu de nawa est Soubré\n"
     ]
    },
    {
     "name": "stdout",
     "output_type": "stream",
     "text": [
      "\n",
      "Quel est le chef-lieu de la région agneby_tiassa ?  agboville\n"
     ]
    },
    {
     "name": "stdout",
     "output_type": "stream",
     "text": [
      "Bonne réponse! 😊\n",
      "\n",
      "=== Partie Terminée ===\n",
      "Vous avez obtenu 4 réponse(s) correcte(s) sur 10.\n",
      "Score: 40 points\n"
     ]
    },
    {
     "name": "stdout",
     "output_type": "stream",
     "text": [
      "\n",
      "Veux-tu essayer une autre partie ? (o/n) :  o\n"
     ]
    },
    {
     "name": "stdout",
     "output_type": "stream",
     "text": [
      "\n",
      "=== Les 5 meilleurs scores ===\n",
      "40/100\n",
      "\n",
      "=== Nouvelle Partie ===\n"
     ]
    }
   ],
   "source": [
    "import random\n",
    "import string\n",
    "\n",
    "def quiz():\n",
    "    regions_cote_divoire = {\n",
    "        \"district_autonome_abidjan\": \"Abidjan\",\n",
    "        \"district_autonome_yamoussoukro\": \"Yamoussoukro\",\n",
    "        \"belier\": \"Toumodi\",\n",
    "        \"ifou\": \"Daoukro\",\n",
    "        \"n_zi\": \"Dimbokro\",\n",
    "        \"sud_comoe\": \"Aboisso\",\n",
    "        \"indénie_djuablin\": \"Abengourou\",\n",
    "        \"agneby_tiassa\": \"Agboville\",\n",
    "        \"la_me\": \"Adzopé\",\n",
    "        \"grands_ponts\": \"Dabou\",\n",
    "        \"san_pedro\": \"San-pédro\",\n",
    "        \"gbokle\": \"Sassandra\",\n",
    "        \"nawa\": \"Soubré\",\n",
    "        \"gontougo\": \"Bondoukou\",\n",
    "        \"bounkani\": \"Bouna\",\n",
    "        \"hambol\": \"Katiola\",\n",
    "        \"gbeleke\": \"Bouaké\",\n",
    "        \"worodougou\": \"Séguéla\",\n",
    "        \"bere\": \"Mankono\",\n",
    "        \"bafing\": \"Touba\",\n",
    "        \"tonkpi\": \"Man\",\n",
    "        \"guemon\": \"Duékoué\",\n",
    "        \"cavally\": \"Guiglo\",\n",
    "        \"bagoue\": \"Boundiali\",\n",
    "        \"tchologo\": \"Ferkessédougou\",\n",
    "        \"poro\": \"Korhogo\",\n",
    "        \"kabadougou\": \"Odienné\",\n",
    "        \"folon\": \"Minignan\",\n",
    "        \"goh\": \"Gagnoa\",\n",
    "        \"loh_djiboua\": \"Divo\",\n",
    "        \"haut_sassandra\": \"Daloa\",\n",
    "        \"marahoue\": \"Bouaflé\"\n",
    "    }\n",
    "\n",
    "    # Liste pour stocker les meilleurs scores\n",
    "    meilleur_scores = []\n",
    "    while True:\n",
    "        # Affichage des 5 meilleurs scores au début\n",
    "        print(\"\\n=== Les 5 meilleurs scores ===\")\n",
    "        if not meilleur_scores:\n",
    "            print(\"Pas encore de scores enregistrés.\")\n",
    "        else:\n",
    "            for score in sorted(meilleur_scores, reverse=True)[:5]:\n",
    "                print(f\"{score}/100\")\n",
    "\n",
    "        # Commencer une nouvelle partie\n",
    "        print(\"\\n=== Nouvelle Partie ===\")\n",
    "        score = 0\n",
    "        good = 0\n",
    "        # Sélection de 10 questions aléatoires\n",
    "        questions = random.sample(list(regions_cote_divoire), 10)\n",
    "\n",
    "        for key in questions:\n",
    "            reponse = input(f\"\\nQuel est le chef-lieu de la région {key} ? \").strip()\n",
    "            if string.capwords(reponse) == regions_cote_divoire[key]:\n",
    "                print(\"Bonne réponse! \\U0001F60A\")\n",
    "                score += 10\n",
    "                good += 1\n",
    "            else:\n",
    "                print(f\"Réponse incorrecte \\U0001F622\")\n",
    "                print(f\"Le chef-lieu de {key} est {regions_cote_divoire[key]}\")\n",
    "\n",
    "        print(\"\\n=== Partie Terminée ===\")\n",
    "        print(f\"Vous avez obtenu {good} réponse(s) correcte(s) sur 10.\")\n",
    "        print(f\"Score: {score} points\")\n",
    "\n",
    "        # Ajout du score à la liste des meilleurs scores\n",
    "        meilleur_scores.append(score)\n",
    "\n",
    "        # Demander si le joueur veut rejouer\n",
    "        rejouer = input(\"\\nVeux-tu essayer une autre partie ? (o/n) : \").strip().lower()\n",
    "        if rejouer != 'o':\n",
    "            print(\"Merci d'avoir joué ! À bientôt !\")\n",
    "            break\n",
    "\n",
    "quiz()"
   ]
  },
  {
   "cell_type": "code",
   "execution_count": null,
   "id": "ceacbe6a-a62c-451f-83ce-8347495a60d7",
   "metadata": {},
   "outputs": [],
   "source": []
  }
 ],
 "metadata": {
  "kernelspec": {
   "display_name": "Python 3 (ipykernel)",
   "language": "python",
   "name": "python3"
  },
  "language_info": {
   "codemirror_mode": {
    "name": "ipython",
    "version": 3
   },
   "file_extension": ".py",
   "mimetype": "text/x-python",
   "name": "python",
   "nbconvert_exporter": "python",
   "pygments_lexer": "ipython3",
   "version": "3.12.5"
  }
 },
 "nbformat": 4,
 "nbformat_minor": 5
}
